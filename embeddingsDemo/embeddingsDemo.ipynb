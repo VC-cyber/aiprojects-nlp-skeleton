{
 "cells": [
  {
   "cell_type": "markdown",
   "metadata": {},
   "source": [
    "# Embeddings Demo using PyTorch"
   ]
  },
  {
   "cell_type": "markdown",
   "metadata": {},
   "source": [
    "## Word2Vec"
   ]
  },
  {
   "cell_type": "markdown",
   "metadata": {},
   "source": [
    "### Import Necessary Libraries"
   ]
  },
  {
   "cell_type": "code",
   "execution_count": 1,
   "metadata": {},
   "outputs": [],
   "source": [
    "#input\n",
    "import torch\n",
    "import torch.nn as nn\n",
    "import torch.optim as optim\n",
    "from collections import Counter\n",
    "from sklearn.metrics.pairwise import cosine_similarity\n",
    "import numpy as np"
   ]
  },
  {
   "cell_type": "markdown",
   "metadata": {},
   "source": [
    "### Prepare Corpus and **Vocabulary**"
   ]
  },
  {
   "cell_type": "code",
   "execution_count": 2,
   "metadata": {},
   "outputs": [],
   "source": [
    "# Step 1: Prepare a simple corpus(sentence)\n",
    "corpus = \"He is the king . The king is royal. She is the royal queen . He is a prince, and she is a princess .\"\n",
    "\n",
    "# Step 2: Tokenize and build vocabulary\n",
    "tokens = corpus.lower().split()  # Tokenize and lower-case words\n",
    "vocab = set(tokens)  # Create a set of unique words\n",
    "word2idx = {word: idx for idx, word in enumerate(vocab)}  # Create word to index mapping\n",
    "idx2word = {idx: word for word, idx in word2idx.items()}  # Create index to word mapping\n",
    "vocab_size = len(vocab)  # Calculate the size of vocabulary"
   ]
  },
  {
   "cell_type": "code",
   "execution_count": 7,
   "metadata": {},
   "outputs": [
    {
     "name": "stdout",
     "output_type": "stream",
     "text": [
      "Tokens:  ['he', 'is', 'the', 'king', '.', 'the', 'king', 'is', 'royal.', 'she', 'is', 'the', 'royal', 'queen', '.', 'he', 'is', 'a', 'prince,', 'and', 'she', 'is', 'a', 'princess', '.']\n",
      "Vocabulary:  {'a', 'and', 'queen', 'prince,', 'she', '.', 'king', 'he', 'the', 'royal.', 'royal', 'is', 'princess'}\n",
      "Word to index mapping:  {'a': 0, 'and': 1, 'queen': 2, 'prince,': 3, 'she': 4, '.': 5, 'king': 6, 'he': 7, 'the': 8, 'royal.': 9, 'royal': 10, 'is': 11, 'princess': 12}\n",
      "Index to word mapping:  {0: 'a', 1: 'and', 2: 'queen', 3: 'prince,', 4: 'she', 5: '.', 6: 'king', 7: 'he', 8: 'the', 9: 'royal.', 10: 'royal', 11: 'is', 12: 'princess'}\n",
      "Vocabulary size:  13\n",
      "25\n"
     ]
    }
   ],
   "source": [
    "print(\"Tokens: \", tokens)\n",
    "print(\"Vocabulary: \", vocab)\n",
    "print(\"Word to index mapping: \", word2idx)\n",
    "print(\"Index to word mapping: \", idx2word)\n",
    "print(\"Vocabulary size: \", vocab_size)\n",
    "print(len(tokens))"
   ]
  },
  {
   "cell_type": "markdown",
   "metadata": {},
   "source": [
    "### Create Dataset"
   ]
  },
  {
   "cell_type": "code",
   "execution_count": 8,
   "metadata": {},
   "outputs": [
    {
     "name": "stdout",
     "output_type": "stream",
     "text": [
      "[(['he', 'is', 'king', '.'], 'the'), (['is', 'the', '.', 'the'], 'king'), (['the', 'king', 'the', 'king'], '.'), (['king', '.', 'king', 'is'], 'the'), (['.', 'the', 'is', 'royal.'], 'king'), (['the', 'king', 'royal.', 'she'], 'is'), (['king', 'is', 'she', 'is'], 'royal.'), (['is', 'royal.', 'is', 'the'], 'she'), (['royal.', 'she', 'the', 'royal'], 'is'), (['she', 'is', 'royal', 'queen'], 'the'), (['is', 'the', 'queen', '.'], 'royal'), (['the', 'royal', '.', 'he'], 'queen'), (['royal', 'queen', 'he', 'is'], '.'), (['queen', '.', 'is', 'a'], 'he'), (['.', 'he', 'a', 'prince,'], 'is'), (['he', 'is', 'prince,', 'and'], 'a'), (['is', 'a', 'and', 'she'], 'prince,'), (['a', 'prince,', 'she', 'is'], 'and'), (['prince,', 'and', 'is', 'a'], 'she'), (['and', 'she', 'a', 'princess'], 'is'), (['she', 'is', 'princess', '.'], 'a')]\n",
      "21\n"
     ]
    }
   ],
   "source": [
    "context_window = 2  # Define the size of context window\n",
    "data = []  # Initialize empty list to hold data\n",
    "# creates data that has 4 context words with 1 target word \n",
    "# Loop through each token and extract its context and target word\n",
    "for i in range(context_window, len(tokens) - context_window):\n",
    "    context = [tokens[i - t] for t in range(context_window, 0, -1)] + [tokens[i + t] for t in range(1, context_window + 1)]\n",
    "\n",
    "    target = tokens[i] \n",
    "    data.append((context, target))  # Append the context and target word as a tuple to the data list\n",
    "\n",
    "print(data)\n",
    "print(len(data))"
   ]
  },
  {
   "cell_type": "markdown",
   "metadata": {},
   "source": [
    "### Define Skip-gram Model"
   ]
  },
  {
   "cell_type": "code",
   "execution_count": 9,
   "metadata": {},
   "outputs": [],
   "source": [
    "# Step 4: Define the Skip-gram model architecture\n",
    "#skipgram gives probabilities of closest contedxt words\n",
    "class SkipGram(nn.Module):\n",
    "    def __init__(self, vocab_size, embed_dim):\n",
    "        super(SkipGram, self).__init__()\n",
    "        self.in_embed = nn.Embedding(vocab_size, embed_dim)\n",
    "        self.out_embed = nn.Embedding(vocab_size, embed_dim)\n",
    "        self.vocab_size = vocab_size\n",
    "    #creates input and output embedding layers\n",
    "        \n",
    "    def forward(self, target, context):\n",
    "        in_embeds = self.in_embed(target)\n",
    "        out_embeds = self.out_embed(context)\n",
    "        scores = torch.matmul(out_embeds, in_embeds.t())\n",
    "        return scores.squeeze()\n",
    "    #takes input words converts to corresponding word vectors, takes context words converts to vectors\n",
    "    #squeeze gets rid of extra stuff"
   ]
  },
  {
   "cell_type": "markdown",
   "metadata": {},
   "source": [
    "### Initialize Model and Train"
   ]
  },
  {
   "cell_type": "code",
   "execution_count": 10,
   "metadata": {},
   "outputs": [],
   "source": [
    "# Step 5: Initialize the model, loss, and optimizer\n",
    "embed_dim = 50\n",
    "model = SkipGram(vocab_size, embed_dim)\n",
    "criterion = nn.CrossEntropyLoss()\n",
    "optimizer = optim.SGD(model.parameters(), lr=0.1)\n"
   ]
  },
  {
   "cell_type": "code",
   "execution_count": 11,
   "metadata": {},
   "outputs": [
    {
     "name": "stdout",
     "output_type": "stream",
     "text": [
      "SkipGram(\n",
      "  (in_embed): Embedding(13, 50)\n",
      "  (out_embed): Embedding(13, 50)\n",
      ")\n"
     ]
    }
   ],
   "source": [
    "print(model)"
   ]
  },
  {
   "cell_type": "code",
   "execution_count": 20,
   "metadata": {},
   "outputs": [
    {
     "name": "stdout",
     "output_type": "stream",
     "text": [
      "['he', 'is', 'king', '.'] the\n",
      "['is', 'the', '.', 'the'] king\n",
      "['the', 'king', 'the', 'king'] .\n",
      "['king', '.', 'king', 'is'] the\n",
      "['.', 'the', 'is', 'royal.'] king\n",
      "['the', 'king', 'royal.', 'she'] is\n",
      "['king', 'is', 'she', 'is'] royal.\n",
      "['is', 'royal.', 'is', 'the'] she\n",
      "['royal.', 'she', 'the', 'royal'] is\n",
      "['she', 'is', 'royal', 'queen'] the\n",
      "['is', 'the', 'queen', '.'] royal\n",
      "['the', 'royal', '.', 'he'] queen\n",
      "['royal', 'queen', 'he', 'is'] .\n",
      "['queen', '.', 'is', 'a'] he\n",
      "['.', 'he', 'a', 'prince,'] is\n",
      "['he', 'is', 'prince,', 'and'] a\n",
      "['is', 'a', 'and', 'she'] prince,\n",
      "['a', 'prince,', 'she', 'is'] and\n",
      "['prince,', 'and', 'is', 'a'] she\n",
      "['and', 'she', 'a', 'princess'] is\n",
      "['she', 'is', 'princess', '.'] a\n",
      "['he', 'is', 'king', '.'] the\n",
      "['is', 'the', '.', 'the'] king\n",
      "['the', 'king', 'the', 'king'] .\n",
      "['king', '.', 'king', 'is'] the\n",
      "['.', 'the', 'is', 'royal.'] king\n",
      "['the', 'king', 'royal.', 'she'] is\n",
      "['king', 'is', 'she', 'is'] royal.\n",
      "['is', 'royal.', 'is', 'the'] she\n",
      "['royal.', 'she', 'the', 'royal'] is\n",
      "['she', 'is', 'royal', 'queen'] the\n",
      "['is', 'the', 'queen', '.'] royal\n",
      "['the', 'royal', '.', 'he'] queen\n",
      "['royal', 'queen', 'he', 'is'] .\n",
      "['queen', '.', 'is', 'a'] he\n",
      "['.', 'he', 'a', 'prince,'] is\n",
      "['he', 'is', 'prince,', 'and'] a\n",
      "['is', 'a', 'and', 'she'] prince,\n",
      "['a', 'prince,', 'she', 'is'] and\n",
      "['prince,', 'and', 'is', 'a'] she\n",
      "['and', 'she', 'a', 'princess'] is\n",
      "['she', 'is', 'princess', '.'] a\n",
      "['he', 'is', 'king', '.'] the\n",
      "['is', 'the', '.', 'the'] king\n",
      "['the', 'king', 'the', 'king'] .\n",
      "['king', '.', 'king', 'is'] the\n",
      "['.', 'the', 'is', 'royal.'] king\n",
      "['the', 'king', 'royal.', 'she'] is\n",
      "['king', 'is', 'she', 'is'] royal.\n",
      "['is', 'royal.', 'is', 'the'] she\n",
      "['royal.', 'she', 'the', 'royal'] is\n",
      "['she', 'is', 'royal', 'queen'] the\n",
      "['is', 'the', 'queen', '.'] royal\n",
      "['the', 'royal', '.', 'he'] queen\n",
      "['royal', 'queen', 'he', 'is'] .\n",
      "['queen', '.', 'is', 'a'] he\n",
      "['.', 'he', 'a', 'prince,'] is\n",
      "['he', 'is', 'prince,', 'and'] a\n",
      "['is', 'a', 'and', 'she'] prince,\n",
      "['a', 'prince,', 'she', 'is'] and\n",
      "['prince,', 'and', 'is', 'a'] she\n",
      "['and', 'she', 'a', 'princess'] is\n",
      "['she', 'is', 'princess', '.'] a\n",
      "['he', 'is', 'king', '.'] the\n",
      "['is', 'the', '.', 'the'] king\n",
      "['the', 'king', 'the', 'king'] .\n",
      "['king', '.', 'king', 'is'] the\n",
      "['.', 'the', 'is', 'royal.'] king\n",
      "['the', 'king', 'royal.', 'she'] is\n",
      "['king', 'is', 'she', 'is'] royal.\n",
      "['is', 'royal.', 'is', 'the'] she\n",
      "['royal.', 'she', 'the', 'royal'] is\n",
      "['she', 'is', 'royal', 'queen'] the\n",
      "['is', 'the', 'queen', '.'] royal\n",
      "['the', 'royal', '.', 'he'] queen\n",
      "['royal', 'queen', 'he', 'is'] .\n",
      "['queen', '.', 'is', 'a'] he\n",
      "['.', 'he', 'a', 'prince,'] is\n",
      "['he', 'is', 'prince,', 'and'] a\n",
      "['is', 'a', 'and', 'she'] prince,\n",
      "['a', 'prince,', 'she', 'is'] and\n",
      "['prince,', 'and', 'is', 'a'] she\n",
      "['and', 'she', 'a', 'princess'] is\n",
      "['she', 'is', 'princess', '.'] a\n",
      "['he', 'is', 'king', '.'] the\n",
      "['is', 'the', '.', 'the'] king\n",
      "['the', 'king', 'the', 'king'] .\n",
      "['king', '.', 'king', 'is'] the\n",
      "['.', 'the', 'is', 'royal.'] king\n",
      "['the', 'king', 'royal.', 'she'] is\n",
      "['king', 'is', 'she', 'is'] royal.\n",
      "['is', 'royal.', 'is', 'the'] she\n",
      "['royal.', 'she', 'the', 'royal'] is\n",
      "['she', 'is', 'royal', 'queen'] the\n",
      "['is', 'the', 'queen', '.'] royal\n",
      "['the', 'royal', '.', 'he'] queen\n",
      "['royal', 'queen', 'he', 'is'] .\n",
      "['queen', '.', 'is', 'a'] he\n",
      "['.', 'he', 'a', 'prince,'] is\n",
      "['he', 'is', 'prince,', 'and'] a\n",
      "['is', 'a', 'and', 'she'] prince,\n",
      "['a', 'prince,', 'she', 'is'] and\n",
      "['prince,', 'and', 'is', 'a'] she\n",
      "['and', 'she', 'a', 'princess'] is\n",
      "['she', 'is', 'princess', '.'] a\n",
      "['he', 'is', 'king', '.'] the\n",
      "['is', 'the', '.', 'the'] king\n",
      "['the', 'king', 'the', 'king'] .\n",
      "['king', '.', 'king', 'is'] the\n",
      "['.', 'the', 'is', 'royal.'] king\n",
      "['the', 'king', 'royal.', 'she'] is\n",
      "['king', 'is', 'she', 'is'] royal.\n",
      "['is', 'royal.', 'is', 'the'] she\n",
      "['royal.', 'she', 'the', 'royal'] is\n",
      "['she', 'is', 'royal', 'queen'] the\n",
      "['is', 'the', 'queen', '.'] royal\n",
      "['the', 'royal', '.', 'he'] queen\n",
      "['royal', 'queen', 'he', 'is'] .\n",
      "['queen', '.', 'is', 'a'] he\n",
      "['.', 'he', 'a', 'prince,'] is\n",
      "['he', 'is', 'prince,', 'and'] a\n",
      "['is', 'a', 'and', 'she'] prince,\n",
      "['a', 'prince,', 'she', 'is'] and\n",
      "['prince,', 'and', 'is', 'a'] she\n",
      "['and', 'she', 'a', 'princess'] is\n",
      "['she', 'is', 'princess', '.'] a\n",
      "['he', 'is', 'king', '.'] the\n",
      "['is', 'the', '.', 'the'] king\n",
      "['the', 'king', 'the', 'king'] .\n",
      "['king', '.', 'king', 'is'] the\n",
      "['.', 'the', 'is', 'royal.'] king\n",
      "['the', 'king', 'royal.', 'she'] is\n",
      "['king', 'is', 'she', 'is'] royal.\n",
      "['is', 'royal.', 'is', 'the'] she\n",
      "['royal.', 'she', 'the', 'royal'] is\n",
      "['she', 'is', 'royal', 'queen'] the\n",
      "['is', 'the', 'queen', '.'] royal\n",
      "['the', 'royal', '.', 'he'] queen\n",
      "['royal', 'queen', 'he', 'is'] .\n",
      "['queen', '.', 'is', 'a'] he\n",
      "['.', 'he', 'a', 'prince,'] is\n",
      "['he', 'is', 'prince,', 'and'] a\n",
      "['is', 'a', 'and', 'she'] prince,\n",
      "['a', 'prince,', 'she', 'is'] and\n",
      "['prince,', 'and', 'is', 'a'] she\n",
      "['and', 'she', 'a', 'princess'] is\n",
      "['she', 'is', 'princess', '.'] a\n",
      "['he', 'is', 'king', '.'] the\n",
      "['is', 'the', '.', 'the'] king\n",
      "['the', 'king', 'the', 'king'] .\n",
      "['king', '.', 'king', 'is'] the\n",
      "['.', 'the', 'is', 'royal.'] king\n",
      "['the', 'king', 'royal.', 'she'] is\n",
      "['king', 'is', 'she', 'is'] royal.\n",
      "['is', 'royal.', 'is', 'the'] she\n",
      "['royal.', 'she', 'the', 'royal'] is\n",
      "['she', 'is', 'royal', 'queen'] the\n",
      "['is', 'the', 'queen', '.'] royal\n",
      "['the', 'royal', '.', 'he'] queen\n",
      "['royal', 'queen', 'he', 'is'] .\n",
      "['queen', '.', 'is', 'a'] he\n",
      "['.', 'he', 'a', 'prince,'] is\n",
      "['he', 'is', 'prince,', 'and'] a\n",
      "['is', 'a', 'and', 'she'] prince,\n",
      "['a', 'prince,', 'she', 'is'] and\n",
      "['prince,', 'and', 'is', 'a'] she\n",
      "['and', 'she', 'a', 'princess'] is\n",
      "['she', 'is', 'princess', '.'] a\n",
      "['he', 'is', 'king', '.'] the\n",
      "['is', 'the', '.', 'the'] king\n",
      "['the', 'king', 'the', 'king'] .\n",
      "['king', '.', 'king', 'is'] the\n",
      "['.', 'the', 'is', 'royal.'] king\n",
      "['the', 'king', 'royal.', 'she'] is\n",
      "['king', 'is', 'she', 'is'] royal.\n",
      "['is', 'royal.', 'is', 'the'] she\n",
      "['royal.', 'she', 'the', 'royal'] is\n",
      "['she', 'is', 'royal', 'queen'] the\n",
      "['is', 'the', 'queen', '.'] royal\n",
      "['the', 'royal', '.', 'he'] queen\n",
      "['royal', 'queen', 'he', 'is'] .\n",
      "['queen', '.', 'is', 'a'] he\n",
      "['.', 'he', 'a', 'prince,'] is\n",
      "['he', 'is', 'prince,', 'and'] a\n",
      "['is', 'a', 'and', 'she'] prince,\n",
      "['a', 'prince,', 'she', 'is'] and\n",
      "['prince,', 'and', 'is', 'a'] she\n",
      "['and', 'she', 'a', 'princess'] is\n",
      "['she', 'is', 'princess', '.'] a\n",
      "['he', 'is', 'king', '.'] the\n",
      "['is', 'the', '.', 'the'] king\n",
      "['the', 'king', 'the', 'king'] .\n",
      "['king', '.', 'king', 'is'] the\n",
      "['.', 'the', 'is', 'royal.'] king\n",
      "['the', 'king', 'royal.', 'she'] is\n",
      "['king', 'is', 'she', 'is'] royal.\n",
      "['is', 'royal.', 'is', 'the'] she\n",
      "['royal.', 'she', 'the', 'royal'] is\n",
      "['she', 'is', 'royal', 'queen'] the\n",
      "['is', 'the', 'queen', '.'] royal\n",
      "['the', 'royal', '.', 'he'] queen\n",
      "['royal', 'queen', 'he', 'is'] .\n",
      "['queen', '.', 'is', 'a'] he\n",
      "['.', 'he', 'a', 'prince,'] is\n",
      "['he', 'is', 'prince,', 'and'] a\n",
      "['is', 'a', 'and', 'she'] prince,\n",
      "['a', 'prince,', 'she', 'is'] and\n",
      "['prince,', 'and', 'is', 'a'] she\n",
      "['and', 'she', 'a', 'princess'] is\n",
      "['she', 'is', 'princess', '.'] a\n",
      "Epoch [10/10], Loss: 33.0833\n"
     ]
    }
   ],
   "source": [
    "# Step 6: Training loop\n",
    "#goes through dataset for epochs, computes loss, backpropagates, updates parameters of the tensors, prints loss\n",
    "epochs = 10\n",
    "for epoch in range(epochs):\n",
    "    total_loss = 0\n",
    "    for context, target in data:\n",
    "        print(context, target)\n",
    "        context_idx = torch.tensor([word2idx[w] for w in context], dtype=torch.long)\n",
    "        target_idx = torch.tensor([word2idx[target]], dtype=torch.long)\n",
    "        \n",
    "        optimizer.zero_grad()\n",
    "        scores = model(target_idx, context_idx)\n",
    "        # change scores to be a float tensor\n",
    "\n",
    "        context_idx = context_idx.float()\n",
    "        loss = criterion(scores, context_idx)\n",
    "        loss.backward()\n",
    "        torch.nn.utils.clip_grad_norm_(model.parameters(), max_norm=1)\n",
    "        optimizer.step()\n",
    "        \n",
    "        total_loss += loss.item()\n",
    "\n",
    "    if (epoch + 1) % 10 == 0:\n",
    "        print(f'Epoch [{epoch+1}/{epochs}], Loss: {total_loss/len(data):.4f}')"
   ]
  },
  {
   "cell_type": "markdown",
   "metadata": {},
   "source": [
    "### Evaluate Model"
   ]
  },
  {
   "cell_type": "code",
   "execution_count": 25,
   "metadata": {},
   "outputs": [],
   "source": [
    "# Step 7: Evaluation\n",
    "def most_similar(word, word2idx, idx2word, embedding_matrix, topk=5):\n",
    "    word_embedding = embedding_matrix[word2idx[word]]\n",
    "    similarities = cosine_similarity([word_embedding], embedding_matrix)[0]\n",
    "    print([tup for tup in zip(idx2word.values(), similarities)])\n",
    "    similar_words = [(idx2word[idx], similarities[idx]) for idx in np.argsort(similarities, axis=-1)[-topk-1:-1][::-1]]\n",
    "    return similar_words"
   ]
  },
  {
   "cell_type": "code",
   "execution_count": 31,
   "metadata": {},
   "outputs": [
    {
     "name": "stdout",
     "output_type": "stream",
     "text": [
      "[('a', 0.21617997), ('and', -0.34440866), ('queen', 0.20008719), ('prince,', -0.13608588), ('she', -0.038912423), ('.', 0.056709126), ('king', 1.0000001), ('he', -0.091720924), ('the', 0.19127563), ('royal.', -0.17081617), ('royal', -0.024660546), ('is', 0.09099622), ('princess', 0.0979481)]\n",
      "[('a', 0.21617997), ('queen', 0.20008719), ('the', 0.19127563), ('princess', 0.0979481), ('is', 0.09099622)]\n"
     ]
    }
   ],
   "source": [
    "embedding_matrix = model.in_embed.weight.data.numpy()\n",
    "# print(embedding_matrix) # Debug line\n",
    "most_similar_words = most_similar('king', word2idx, idx2word, embedding_matrix, topk=5)\n",
    "print(most_similar_words)"
   ]
  },
  {
   "cell_type": "code",
   "execution_count": 32,
   "metadata": {},
   "outputs": [
    {
     "ename": "TypeError",
     "evalue": "'SkipGram' object is not subscriptable",
     "output_type": "error",
     "traceback": [
      "\u001b[0;31m---------------------------------------------------------------------------\u001b[0m",
      "\u001b[0;31mTypeError\u001b[0m                                 Traceback (most recent call last)",
      "\u001b[1;32m/Users/venkat/Desktop/AcmAI/aiprojects-nlp-skeleton/embeddingsDemo/embeddingsDemo.ipynb Cell 19\u001b[0m line \u001b[0;36m5\n\u001b[1;32m      <a href='vscode-notebook-cell:/Users/venkat/Desktop/AcmAI/aiprojects-nlp-skeleton/embeddingsDemo/embeddingsDemo.ipynb#X24sZmlsZQ%3D%3D?line=2'>3</a>\u001b[0m \u001b[39m# Fill the tensor with the Word2Vec embeddings\u001b[39;00m\n\u001b[1;32m      <a href='vscode-notebook-cell:/Users/venkat/Desktop/AcmAI/aiprojects-nlp-skeleton/embeddingsDemo/embeddingsDemo.ipynb#X24sZmlsZQ%3D%3D?line=3'>4</a>\u001b[0m \u001b[39mfor\u001b[39;00m i, word \u001b[39min\u001b[39;00m \u001b[39menumerate\u001b[39m(idx2word\u001b[39m.\u001b[39mvalues()):\n\u001b[0;32m----> <a href='vscode-notebook-cell:/Users/venkat/Desktop/AcmAI/aiprojects-nlp-skeleton/embeddingsDemo/embeddingsDemo.ipynb#X24sZmlsZQ%3D%3D?line=4'>5</a>\u001b[0m     embedding_matrix[i] \u001b[39m=\u001b[39m torch\u001b[39m.\u001b[39mtensor(model[word])\n\u001b[1;32m      <a href='vscode-notebook-cell:/Users/venkat/Desktop/AcmAI/aiprojects-nlp-skeleton/embeddingsDemo/embeddingsDemo.ipynb#X24sZmlsZQ%3D%3D?line=6'>7</a>\u001b[0m \u001b[39m# Create an nn.Embedding layer and load the pre-trained embeddings\u001b[39;00m\n\u001b[1;32m      <a href='vscode-notebook-cell:/Users/venkat/Desktop/AcmAI/aiprojects-nlp-skeleton/embeddingsDemo/embeddingsDemo.ipynb#X24sZmlsZQ%3D%3D?line=7'>8</a>\u001b[0m embedding_layer \u001b[39m=\u001b[39m torch\u001b[39m.\u001b[39mnn\u001b[39m.\u001b[39mEmbedding\u001b[39m.\u001b[39mfrom_pretrained(embedding_matrix)\n",
      "\u001b[0;31mTypeError\u001b[0m: 'SkipGram' object is not subscriptable"
     ]
    }
   ],
   "source": [
    "# Initialize a tensor to store the embeddings\n",
    "embedding_matrix = torch.zeros((vocab_size, embed_dim))\n",
    "# Fill the tensor with the Word2Vec embeddings\n",
    "for i, word in enumerate(idx2word.values()):\n",
    "    embedding_matrix[i] = torch.tensor(model[word])\n",
    "\n",
    "# Create an nn.Embedding layer and load the pre-trained embeddings\n",
    "embedding_layer = torch.nn.Embedding.from_pretrained(embedding_matrix) "
   ]
  },
  {
   "cell_type": "code",
   "execution_count": null,
   "metadata": {},
   "outputs": [],
   "source": [
    "class TextClassifier(nn.Module):\n",
    "    def __init__(self, vocab_size, embed_dim, num_class):\n",
    "        super().__init__()\n",
    "        self.embedding = nn.Embedding.from_pretrained(embedding_matrix)\n",
    "        self.fc1 = nn.Linear(embed_dim, 128)\n",
    "        self.fc2 = nn.Linear(128, num_class)\n",
    "        \n",
    "    def forward(self, x):\n",
    "        x = self.embedding(x)\n",
    "        x = self.fc1(x)\n",
    "        x = self.fc2(x)\n",
    "        return x"
   ]
  },
  {
   "cell_type": "markdown",
   "metadata": {},
   "source": [
    "## Using word2vec for Text Classification"
   ]
  },
  {
   "cell_type": "markdown",
   "metadata": {},
   "source": [
    "### Installing Required Libraries"
   ]
  },
  {
   "cell_type": "code",
   "execution_count": null,
   "metadata": {},
   "outputs": [],
   "source": [
    "# !pip install gensim torch"
   ]
  },
  {
   "cell_type": "markdown",
   "metadata": {},
   "source": [
    "### Loading Pre-trained Word2Vec Embeddings\n",
    "\n",
    "TODO: make sure to download the embeddings file from [kaggle](https://www.kaggle.com/datasets/leadbest/googlenewsvectorsnegative300) and place it in the same directory as this notebook"
   ]
  },
  {
   "cell_type": "code",
   "execution_count": null,
   "metadata": {},
   "outputs": [],
   "source": [
    "from gensim.models import KeyedVectors\n",
    "\n",
    "# Load vectors directly from the file\n",
    "model = KeyedVectors.load_word2vec_format('path/to/GoogleNews-vectors-negative300.bin', binary=True)"
   ]
  },
  {
   "cell_type": "markdown",
   "metadata": {},
   "source": [
    "### Converting Embeddings to PyTorch Tensors\n"
   ]
  },
  {
   "cell_type": "code",
   "execution_count": null,
   "metadata": {},
   "outputs": [],
   "source": [
    "vocab_size = len(model.index_to_key)\n",
    "embedding_dim = model.vector_size\n",
    "\n",
    "# Initialize a tensor to store the embeddings\n",
    "embedding_matrix = torch.zeros((vocab_size, embedding_dim))\n",
    "\n",
    "# Fill the tensor with the Word2Vec embeddings\n",
    "for i, word in enumerate(model.index_to_key):\n",
    "    embedding_matrix[i] = torch.tensor(model[word])\n",
    "\n",
    "# Create an nn.Embedding layer and load the pre-trained embeddings\n",
    "embedding_layer = torch.nn.Embedding.from_pretrained(embedding_matrix)"
   ]
  },
  {
   "cell_type": "markdown",
   "metadata": {},
   "source": [
    "### Building a Simple Text Classification Model"
   ]
  },
  {
   "cell_type": "code",
   "execution_count": null,
   "metadata": {},
   "outputs": [],
   "source": [
    "class TextClassifier(nn.Module):\n",
    "    def __init__(self, vocab_size, embed_dim, num_class):\n",
    "        super().__init__()\n",
    "        self.embedding = nn.Embedding.from_pretrained(embedding_matrix)\n",
    "        self.fc1 = nn.Linear(embed_dim, 128)\n",
    "        self.fc2 = nn.Linear(128, num_class)\n",
    "        \n",
    "    def forward(self, x):\n",
    "        x = self.embedding(x)\n",
    "        x = self.fc1(x)\n",
    "        x = self.fc2(x)\n",
    "        return x"
   ]
  },
  {
   "cell_type": "markdown",
   "metadata": {},
   "source": [
    "### Training the Model"
   ]
  },
  {
   "cell_type": "code",
   "execution_count": null,
   "metadata": {},
   "outputs": [],
   "source": [
    "# Training code here"
   ]
  },
  {
   "cell_type": "markdown",
   "metadata": {},
   "source": [
    "### Evaluating the Model"
   ]
  },
  {
   "cell_type": "code",
   "execution_count": null,
   "metadata": {},
   "outputs": [],
   "source": [
    "# Evaluation code here"
   ]
  },
  {
   "cell_type": "markdown",
   "metadata": {},
   "source": [
    "## GloVe"
   ]
  },
  {
   "cell_type": "markdown",
   "metadata": {},
   "source": [
    "### Loading Pre-trained GloVe Embeddings"
   ]
  },
  {
   "cell_type": "code",
   "execution_count": null,
   "metadata": {},
   "outputs": [
    {
     "ename": "RuntimeError",
     "evalue": "PytorchStreamReader failed reading zip archive: failed finding central directory",
     "output_type": "error",
     "traceback": [
      "\u001b[1;31m---------------------------------------------------------------------------\u001b[0m",
      "\u001b[1;31mRuntimeError\u001b[0m                              Traceback (most recent call last)",
      "\u001b[1;32md:\\ACM AI\\aiprojects-nlp-skeleton\\embeddingsDemo\\embeddingsDemo.ipynb Cell 34\u001b[0m line \u001b[0;36m3\n\u001b[0;32m      <a href='vscode-notebook-cell:/d%3A/ACM%20AI/aiprojects-nlp-skeleton/embeddingsDemo/embeddingsDemo.ipynb#X45sZmlsZQ%3D%3D?line=0'>1</a>\u001b[0m \u001b[39mfrom\u001b[39;00m \u001b[39mtorchtext\u001b[39;00m\u001b[39m.\u001b[39;00m\u001b[39mvocab\u001b[39;00m \u001b[39mimport\u001b[39;00m GloVe\n\u001b[0;32m      <a href='vscode-notebook-cell:/d%3A/ACM%20AI/aiprojects-nlp-skeleton/embeddingsDemo/embeddingsDemo.ipynb#X45sZmlsZQ%3D%3D?line=1'>2</a>\u001b[0m \u001b[39m# Load GloVe vectors using torchtext\u001b[39;00m\n\u001b[1;32m----> <a href='vscode-notebook-cell:/d%3A/ACM%20AI/aiprojects-nlp-skeleton/embeddingsDemo/embeddingsDemo.ipynb#X45sZmlsZQ%3D%3D?line=2'>3</a>\u001b[0m glove \u001b[39m=\u001b[39m GloVe(name\u001b[39m=\u001b[39;49m\u001b[39m'\u001b[39;49m\u001b[39m6B\u001b[39;49m\u001b[39m'\u001b[39;49m, dim\u001b[39m=\u001b[39;49m\u001b[39m100\u001b[39;49m)\n",
      "File \u001b[1;32md:\\anaconda3\\envs\\pytorch\\Lib\\site-packages\\torchtext\\vocab\\vectors.py:223\u001b[0m, in \u001b[0;36mGloVe.__init__\u001b[1;34m(self, name, dim, **kwargs)\u001b[0m\n\u001b[0;32m    221\u001b[0m url \u001b[39m=\u001b[39m \u001b[39mself\u001b[39m\u001b[39m.\u001b[39murl[name]\n\u001b[0;32m    222\u001b[0m name \u001b[39m=\u001b[39m \u001b[39m\"\u001b[39m\u001b[39mglove.\u001b[39m\u001b[39m{}\u001b[39;00m\u001b[39m.\u001b[39m\u001b[39m{}\u001b[39;00m\u001b[39md.txt\u001b[39m\u001b[39m\"\u001b[39m\u001b[39m.\u001b[39mformat(name, \u001b[39mstr\u001b[39m(dim))\n\u001b[1;32m--> 223\u001b[0m \u001b[39msuper\u001b[39;49m(GloVe, \u001b[39mself\u001b[39;49m)\u001b[39m.\u001b[39;49m\u001b[39m__init__\u001b[39;49m(name, url\u001b[39m=\u001b[39;49murl, \u001b[39m*\u001b[39;49m\u001b[39m*\u001b[39;49mkwargs)\n",
      "File \u001b[1;32md:\\anaconda3\\envs\\pytorch\\Lib\\site-packages\\torchtext\\vocab\\vectors.py:59\u001b[0m, in \u001b[0;36mVectors.__init__\u001b[1;34m(self, name, cache, url, unk_init, max_vectors)\u001b[0m\n\u001b[0;32m     57\u001b[0m \u001b[39mself\u001b[39m\u001b[39m.\u001b[39mdim \u001b[39m=\u001b[39m \u001b[39mNone\u001b[39;00m\n\u001b[0;32m     58\u001b[0m \u001b[39mself\u001b[39m\u001b[39m.\u001b[39munk_init \u001b[39m=\u001b[39m torch\u001b[39m.\u001b[39mTensor\u001b[39m.\u001b[39mzero_ \u001b[39mif\u001b[39;00m unk_init \u001b[39mis\u001b[39;00m \u001b[39mNone\u001b[39;00m \u001b[39melse\u001b[39;00m unk_init\n\u001b[1;32m---> 59\u001b[0m \u001b[39mself\u001b[39;49m\u001b[39m.\u001b[39;49mcache(name, cache, url\u001b[39m=\u001b[39;49murl, max_vectors\u001b[39m=\u001b[39;49mmax_vectors)\n",
      "File \u001b[1;32md:\\anaconda3\\envs\\pytorch\\Lib\\site-packages\\torchtext\\vocab\\vectors.py:173\u001b[0m, in \u001b[0;36mVectors.cache\u001b[1;34m(self, name, cache, url, max_vectors)\u001b[0m\n\u001b[0;32m    171\u001b[0m \u001b[39melse\u001b[39;00m:\n\u001b[0;32m    172\u001b[0m     logger\u001b[39m.\u001b[39minfo(\u001b[39m\"\u001b[39m\u001b[39mLoading vectors from \u001b[39m\u001b[39m{}\u001b[39;00m\u001b[39m\"\u001b[39m\u001b[39m.\u001b[39mformat(path_pt))\n\u001b[1;32m--> 173\u001b[0m     \u001b[39mself\u001b[39m\u001b[39m.\u001b[39mitos, \u001b[39mself\u001b[39m\u001b[39m.\u001b[39mstoi, \u001b[39mself\u001b[39m\u001b[39m.\u001b[39mvectors, \u001b[39mself\u001b[39m\u001b[39m.\u001b[39mdim \u001b[39m=\u001b[39m torch\u001b[39m.\u001b[39;49mload(path_pt)\n",
      "File \u001b[1;32md:\\anaconda3\\envs\\pytorch\\Lib\\site-packages\\torch\\serialization.py:993\u001b[0m, in \u001b[0;36mload\u001b[1;34m(f, map_location, pickle_module, weights_only, mmap, **pickle_load_args)\u001b[0m\n\u001b[0;32m    991\u001b[0m orig_position \u001b[39m=\u001b[39m opened_file\u001b[39m.\u001b[39mtell()\n\u001b[0;32m    992\u001b[0m overall_storage \u001b[39m=\u001b[39m \u001b[39mNone\u001b[39;00m\n\u001b[1;32m--> 993\u001b[0m \u001b[39mwith\u001b[39;00m _open_zipfile_reader(opened_file) \u001b[39mas\u001b[39;00m opened_zipfile:\n\u001b[0;32m    994\u001b[0m     \u001b[39mif\u001b[39;00m _is_torchscript_zip(opened_zipfile):\n\u001b[0;32m    995\u001b[0m         warnings\u001b[39m.\u001b[39mwarn(\u001b[39m\"\u001b[39m\u001b[39m'\u001b[39m\u001b[39mtorch.load\u001b[39m\u001b[39m'\u001b[39m\u001b[39m received a zip file that looks like a TorchScript archive\u001b[39m\u001b[39m\"\u001b[39m\n\u001b[0;32m    996\u001b[0m                       \u001b[39m\"\u001b[39m\u001b[39m dispatching to \u001b[39m\u001b[39m'\u001b[39m\u001b[39mtorch.jit.load\u001b[39m\u001b[39m'\u001b[39m\u001b[39m (call \u001b[39m\u001b[39m'\u001b[39m\u001b[39mtorch.jit.load\u001b[39m\u001b[39m'\u001b[39m\u001b[39m directly to\u001b[39m\u001b[39m\"\u001b[39m\n\u001b[0;32m    997\u001b[0m                       \u001b[39m\"\u001b[39m\u001b[39m silence this warning)\u001b[39m\u001b[39m\"\u001b[39m, \u001b[39mUserWarning\u001b[39;00m)\n",
      "File \u001b[1;32md:\\anaconda3\\envs\\pytorch\\Lib\\site-packages\\torch\\serialization.py:447\u001b[0m, in \u001b[0;36m_open_zipfile_reader.__init__\u001b[1;34m(self, name_or_buffer)\u001b[0m\n\u001b[0;32m    446\u001b[0m \u001b[39mdef\u001b[39;00m \u001b[39m__init__\u001b[39m(\u001b[39mself\u001b[39m, name_or_buffer) \u001b[39m-\u001b[39m\u001b[39m>\u001b[39m \u001b[39mNone\u001b[39;00m:\n\u001b[1;32m--> 447\u001b[0m     \u001b[39msuper\u001b[39m()\u001b[39m.\u001b[39m\u001b[39m__init__\u001b[39m(torch\u001b[39m.\u001b[39;49m_C\u001b[39m.\u001b[39;49mPyTorchFileReader(name_or_buffer))\n",
      "\u001b[1;31mRuntimeError\u001b[0m: PytorchStreamReader failed reading zip archive: failed finding central directory"
     ]
    }
   ],
   "source": [
    "from torchtext.vocab import GloVe\n",
    "# Load GloVe vectors using torchtext\n",
    "glove = GloVe(name='6B', dim=100)"
   ]
  },
  {
   "cell_type": "markdown",
   "metadata": {},
   "source": [
    "### Converting Embeddings to PyTorch Tensors"
   ]
  },
  {
   "cell_type": "code",
   "execution_count": null,
   "metadata": {},
   "outputs": [
    {
     "ename": "NameError",
     "evalue": "name 'glove' is not defined",
     "output_type": "error",
     "traceback": [
      "\u001b[1;31m---------------------------------------------------------------------------\u001b[0m",
      "\u001b[1;31mNameError\u001b[0m                                 Traceback (most recent call last)",
      "\u001b[1;32md:\\ACM AI\\aiprojects-nlp-skeleton\\embeddingsDemo\\embeddingsDemo.ipynb Cell 36\u001b[0m line \u001b[0;36m2\n\u001b[0;32m      <a href='vscode-notebook-cell:/d%3A/ACM%20AI/aiprojects-nlp-skeleton/embeddingsDemo/embeddingsDemo.ipynb#X60sZmlsZQ%3D%3D?line=0'>1</a>\u001b[0m \u001b[39m# Fetch the indices for the words in your vocabulary\u001b[39;00m\n\u001b[1;32m----> <a href='vscode-notebook-cell:/d%3A/ACM%20AI/aiprojects-nlp-skeleton/embeddingsDemo/embeddingsDemo.ipynb#X60sZmlsZQ%3D%3D?line=1'>2</a>\u001b[0m word_indices \u001b[39m=\u001b[39m [glove\u001b[39m.\u001b[39;49mstoi[word] \u001b[39mfor\u001b[39;49;00m word \u001b[39min\u001b[39;49;00m [\u001b[39m'\u001b[39;49m\u001b[39mhello\u001b[39;49m\u001b[39m'\u001b[39;49m, \u001b[39m'\u001b[39;49m\u001b[39mworld\u001b[39;49m\u001b[39m'\u001b[39;49m]]\n\u001b[0;32m      <a href='vscode-notebook-cell:/d%3A/ACM%20AI/aiprojects-nlp-skeleton/embeddingsDemo/embeddingsDemo.ipynb#X60sZmlsZQ%3D%3D?line=3'>4</a>\u001b[0m \u001b[39m# Create a tensor with the GloVe embeddings\u001b[39;00m\n\u001b[0;32m      <a href='vscode-notebook-cell:/d%3A/ACM%20AI/aiprojects-nlp-skeleton/embeddingsDemo/embeddingsDemo.ipynb#X60sZmlsZQ%3D%3D?line=4'>5</a>\u001b[0m embedding_tensor \u001b[39m=\u001b[39m torch\u001b[39m.\u001b[39mstack([glove\u001b[39m.\u001b[39mvectors[i] \u001b[39mfor\u001b[39;00m i \u001b[39min\u001b[39;00m word_indices])\n",
      "\u001b[1;32md:\\ACM AI\\aiprojects-nlp-skeleton\\embeddingsDemo\\embeddingsDemo.ipynb Cell 36\u001b[0m line \u001b[0;36m2\n\u001b[0;32m      <a href='vscode-notebook-cell:/d%3A/ACM%20AI/aiprojects-nlp-skeleton/embeddingsDemo/embeddingsDemo.ipynb#X60sZmlsZQ%3D%3D?line=0'>1</a>\u001b[0m \u001b[39m# Fetch the indices for the words in your vocabulary\u001b[39;00m\n\u001b[1;32m----> <a href='vscode-notebook-cell:/d%3A/ACM%20AI/aiprojects-nlp-skeleton/embeddingsDemo/embeddingsDemo.ipynb#X60sZmlsZQ%3D%3D?line=1'>2</a>\u001b[0m word_indices \u001b[39m=\u001b[39m [glove\u001b[39m.\u001b[39mstoi[word] \u001b[39mfor\u001b[39;00m word \u001b[39min\u001b[39;00m [\u001b[39m'\u001b[39m\u001b[39mhello\u001b[39m\u001b[39m'\u001b[39m, \u001b[39m'\u001b[39m\u001b[39mworld\u001b[39m\u001b[39m'\u001b[39m]]\n\u001b[0;32m      <a href='vscode-notebook-cell:/d%3A/ACM%20AI/aiprojects-nlp-skeleton/embeddingsDemo/embeddingsDemo.ipynb#X60sZmlsZQ%3D%3D?line=3'>4</a>\u001b[0m \u001b[39m# Create a tensor with the GloVe embeddings\u001b[39;00m\n\u001b[0;32m      <a href='vscode-notebook-cell:/d%3A/ACM%20AI/aiprojects-nlp-skeleton/embeddingsDemo/embeddingsDemo.ipynb#X60sZmlsZQ%3D%3D?line=4'>5</a>\u001b[0m embedding_tensor \u001b[39m=\u001b[39m torch\u001b[39m.\u001b[39mstack([glove\u001b[39m.\u001b[39mvectors[i] \u001b[39mfor\u001b[39;00m i \u001b[39min\u001b[39;00m word_indices])\n",
      "\u001b[1;31mNameError\u001b[0m: name 'glove' is not defined"
     ]
    }
   ],
   "source": [
    "# Fetch the indices for the words in your vocabulary\n",
    "word_indices = [glove.stoi[word] for word in ['hello', 'world']]\n",
    "\n",
    "# Create a tensor with the GloVe embeddings\n",
    "embedding_tensor = torch.stack([glove.vectors[i] for i in word_indices])"
   ]
  },
  {
   "cell_type": "markdown",
   "metadata": {},
   "source": [
    "### Building a Text Classification Model\n"
   ]
  },
  {
   "cell_type": "code",
   "execution_count": null,
   "metadata": {},
   "outputs": [],
   "source": [
    "import torch.nn as nn\n",
    "\n",
    "class TextClassifier(nn.Module):\n",
    "    def __init__(self, num_embeddings, embedding_dim, num_class):\n",
    "        super().__init__()\n",
    "        self.embedding = nn.Embedding.from_pretrained(embedding_tensor)\n",
    "        self.fc1 = nn.Linear(embedding_dim, 128)\n",
    "        self.fc2 = nn.Linear(128, num_class)\n",
    "        \n",
    "    def forward(self, x):\n",
    "        x = self.embedding(x)\n",
    "        x = self.fc1(x)\n",
    "        x = self.fc2(x)\n",
    "        return x"
   ]
  },
  {
   "cell_type": "markdown",
   "metadata": {},
   "source": [
    "### Training the Model"
   ]
  },
  {
   "cell_type": "code",
   "execution_count": null,
   "metadata": {},
   "outputs": [],
   "source": [
    "# Training code here"
   ]
  },
  {
   "cell_type": "markdown",
   "metadata": {},
   "source": [
    "### Evaluating the Model"
   ]
  },
  {
   "cell_type": "code",
   "execution_count": null,
   "metadata": {},
   "outputs": [],
   "source": [
    "# Evaluation code here"
   ]
  }
 ],
 "metadata": {
  "kernelspec": {
   "display_name": "pytorch",
   "language": "python",
   "name": "python3"
  },
  "language_info": {
   "codemirror_mode": {
    "name": "ipython",
    "version": 3
   },
   "file_extension": ".py",
   "mimetype": "text/x-python",
   "name": "python",
   "nbconvert_exporter": "python",
   "pygments_lexer": "ipython3",
   "version": "3.9.18"
  }
 },
 "nbformat": 4,
 "nbformat_minor": 2
}
